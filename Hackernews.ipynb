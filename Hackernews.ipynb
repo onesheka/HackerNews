{
 "cells": [
  {
   "cell_type": "markdown",
   "metadata": {
    "collapsed": true
   },
   "source": [
    "# HACKER NEWS \n",
    "- The goal is to look at the ask posts and show post of the Hacker News and then identify during which time of the day the users are most active on the site"
   ]
  },
  {
   "cell_type": "code",
   "execution_count": 1,
   "metadata": {
    "collapsed": true
   },
   "outputs": [],
   "source": [
    "from csv import reader\n",
    "open_file = open('hacker_news.csv')\n",
    "read_file = reader(open_file)\n",
    "hn = list(read_file)\n",
    "headers = hn[0]\n",
    "hn = hn[1:]"
   ]
  },
  {
   "cell_type": "code",
   "execution_count": 2,
   "metadata": {
    "collapsed": false
   },
   "outputs": [
    {
     "name": "stdout",
     "output_type": "stream",
     "text": [
      "['id', 'title', 'url', 'num_points', 'num_comments', 'author', 'created_at'] \n",
      "\n",
      "['12224879', 'Interactive Dynamic Video', 'http://www.interactivedynamicvideo.com/', '386', '52', 'ne0phyte', '8/4/2016 11:52'] \n",
      "\n",
      "['10975351', 'How to Use Open Source and Shut the Fuck Up at the Same Time', 'http://hueniverse.com/2016/01/26/how-to-use-open-source-and-shut-the-fuck-up-at-the-same-time/', '39', '10', 'josep2', '1/26/2016 19:30'] \n",
      "\n",
      "['11964716', \"Florida DJs May Face Felony for April Fools' Water Joke\", 'http://www.thewire.com/entertainment/2013/04/florida-djs-april-fools-water-joke/63798/', '2', '1', 'vezycash', '6/23/2016 22:20'] \n",
      "\n",
      "['11919867', 'Technology ventures: From Idea to Enterprise', 'https://www.amazon.com/Technology-Ventures-Enterprise-Thomas-Byers/dp/0073523429', '3', '1', 'hswarna', '6/17/2016 0:01'] \n",
      "\n",
      "['10301696', 'Note by Note: The Making of Steinway L1037 (2007)', 'http://www.nytimes.com/2007/11/07/movies/07stein.html?_r=0', '8', '2', 'walterbell', '9/30/2015 4:12'] \n",
      "\n"
     ]
    }
   ],
   "source": [
    "print(headers,\"\\n\")\n",
    "for i in range(0,5):\n",
    "    print(hn[i],\"\\n\")"
   ]
  },
  {
   "cell_type": "code",
   "execution_count": 3,
   "metadata": {
    "collapsed": false
   },
   "outputs": [
    {
     "name": "stdout",
     "output_type": "stream",
     "text": [
      "No of posts in Ask Posts:  1744\n",
      "No of posts in Show Posts:  1162\n",
      "No of other posts:  17194\n",
      "['12296411', 'Ask HN: How to improve my personal website?', '', '2', '6', 'ahmedbaracat', '8/16/2016 9:55']\n",
      "['10627194', 'Show HN: Wio Link  ESP8266 Based Web of Things Hardware Development Platform', 'https://iot.seeed.cc', '26', '22', 'kfihihc', '11/25/2015 14:03']\n"
     ]
    }
   ],
   "source": [
    "ask_posts = []\n",
    "show_posts = []\n",
    "other_posts = []\n",
    "for row in hn:\n",
    "    title = row[1]\n",
    "    if(title.lower().startswith('ask hn')):\n",
    "        ask_posts.append(row)\n",
    "    elif(title.lower().startswith('show hn')):\n",
    "        show_posts.append(row)\n",
    "    else:\n",
    "        other_posts.append(row)\n",
    "print(\"No of posts in Ask Posts: \",len(ask_posts))\n",
    "print(\"No of posts in Show Posts: \",len(show_posts))\n",
    "print(\"No of other posts: \",len(other_posts))\n",
    "print(ask_posts[0])\n",
    "print(show_posts[0])"
   ]
  },
  {
   "cell_type": "code",
   "execution_count": 4,
   "metadata": {
    "collapsed": false
   },
   "outputs": [
    {
     "name": "stdout",
     "output_type": "stream",
     "text": [
      "14.038417431192661\n",
      "10.31669535283993\n"
     ]
    }
   ],
   "source": [
    "total_ask_comments = 0\n",
    "for postt in ask_posts:\n",
    "    post = postt[4]\n",
    "    total_ask_comments += int(post)\n",
    "avg_ask_comments = total_ask_comments/len(ask_posts)\n",
    "print(avg_ask_comments)\n",
    "total_show_comments = 0\n",
    "for postt in show_posts:\n",
    "    post = postt[4]\n",
    "    total_show_comments += int(post)\n",
    "avg_show_comments = total_show_comments/len(show_posts)\n",
    "print(avg_show_comments)\n",
    "\n",
    "    \n",
    "    "
   ]
  },
  {
   "cell_type": "markdown",
   "metadata": {
    "collapsed": true
   },
   "source": [
    "The average number of ask comments are approximately 14 per topic wheras the average number of show comments are approximately 10. From this we can say that maybe there are more number of people on this platform who like to ask questions rather than solving them. Or maybe the users/audience engaged with this platform are more novice than professionals. Maybe there are more number of students as compared to industry professionals.\n",
    "\n",
    "Since ask posts recieve more comments than the show posts, we are going to focus on these posts."
   ]
  },
  {
   "cell_type": "code",
   "execution_count": 20,
   "metadata": {
    "collapsed": false
   },
   "outputs": [],
   "source": [
    "import datetime as dt\n",
    "result_list = []\n",
    "counts_by_hour = {}\n",
    "comments_by_hour = {}\n",
    "for post in ask_posts:\n",
    "    created_at = post[6]\n",
    "    comments = int(post[4])\n",
    "    l = [created_at,comments]\n",
    "    result_list.append(l)\n",
    "for row in result_list:\n",
    "    l2 = row[0].split(\" \")\n",
    "    hour = l2[1]\n",
    "    if(hour not in counts_by_hour):\n",
    "        counts_by_hour[hour] = 1\n",
    "        comments_by_hour[hour] = int(row[1])\n",
    "    if(hour in counts_by_hour):\n",
    "        counts_by_hour[hour] += 1\n",
    "        comments_by_hour[hour] += int(row[1])\n",
    "\n",
    "\n"
   ]
  },
  {
   "cell_type": "code",
   "execution_count": 22,
   "metadata": {
    "collapsed": false
   },
   "outputs": [
    {
     "name": "stdout",
     "output_type": "stream",
     "text": [
      "[['0', 64], ['1', 87], ['10', 8], ['11', 10], ['12', 8], ['13', 21], ['14', 187], ['15', 15], ['16', 6], ['17', 16], ['18', 54], ['19', 12], ['2', 4], ['20', 4], ['21', 15], ['22', 6], ['23', 6], ['3', 48], ['4', 2], ['5', 12], ['6', 6], ['7', 12], ['8', 10], ['9', 7]]\n"
     ]
    }
   ],
   "source": [
    "avg_by_hour = {}\n",
    "l_avg_by_hour = []\n",
    "\n",
    "\n",
    "for hours in counts_by_hour:\n",
    "    l = hours.split(\":\")\n",
    "    avg_by_hour[l[0]] = comments_by_hour[hours]\n",
    "for val in avg_by_hour:\n",
    "    l_avg_by_hour.append([val,avg_by_hour[val]])\n",
    "l_avg_by_hour.sort()\n",
    "print(l_avg_by_hour)"
   ]
  },
  {
   "cell_type": "markdown",
   "metadata": {
    "collapsed": true
   },
   "source": [
    "It's the average number of comments per post for posts created during each hour of the day."
   ]
  },
  {
   "cell_type": "code",
   "execution_count": 24,
   "metadata": {
    "collapsed": false
   },
   "outputs": [
    {
     "name": "stdout",
     "output_type": "stream",
     "text": [
      "[[64, '0'], [87, '1'], [8, '10'], [10, '11'], [8, '12'], [21, '13'], [187, '14'], [15, '15'], [6, '16'], [16, '17'], [54, '18'], [12, '19'], [4, '2'], [4, '20'], [15, '21'], [6, '22'], [6, '23'], [48, '3'], [2, '4'], [12, '5'], [6, '6'], [12, '7'], [10, '8'], [7, '9']]\n"
     ]
    }
   ],
   "source": [
    "swap_avg_by_hour = []\n",
    "for rows in l_avg_by_hour:\n",
    "    swap_avg_by_hour.append([rows[1],rows[0]])\n",
    "print(swap_avg_by_hour)"
   ]
  },
  {
   "cell_type": "code",
   "execution_count": 34,
   "metadata": {
    "collapsed": false
   },
   "outputs": [
    {
     "name": "stdout",
     "output_type": "stream",
     "text": [
      "[[187, '14'], [87, '1'], [64, '0'], [54, '18'], [48, '3'], [21, '13'], [16, '17'], [15, '21'], [15, '15'], [12, '7'], [12, '5'], [12, '19'], [10, '8'], [10, '11'], [8, '12'], [8, '10'], [7, '9'], [6, '6'], [6, '23'], [6, '22'], [6, '16'], [4, '20'], [4, '2'], [2, '4']]\n"
     ]
    }
   ],
   "source": [
    "sorted_swap = sorted(swap_avg_by_hour,reverse=True)\n",
    "print(sorted_swap)"
   ]
  },
  {
   "cell_type": "code",
   "execution_count": 35,
   "metadata": {
    "collapsed": false
   },
   "outputs": [
    {
     "name": "stdout",
     "output_type": "stream",
     "text": [
      "[187, '14']\n",
      "[87, '1']\n",
      "[64, '0']\n",
      "[54, '18']\n",
      "[48, '3']\n"
     ]
    }
   ],
   "source": [
    "for i in range(0,5):\n",
    "    print(sorted_swap[i])"
   ]
  },
  {
   "cell_type": "markdown",
   "metadata": {},
   "source": [
    "From the list, it's quite evident that maximum number of posts are at 2:00 p.m. \n",
    "which is strange as it's the working hours time.\n",
    "Also out of 5, 3 timings are after midnight which shows the users of the platform are quite active in asking questions at late night. One is at 6:00 p.m. during the evening which sounds quite reasonable."
   ]
  }
 ],
 "metadata": {
  "kernelspec": {
   "display_name": "Python 3",
   "language": "python",
   "name": "python3"
  },
  "language_info": {
   "codemirror_mode": {
    "name": "ipython",
    "version": 3
   },
   "file_extension": ".py",
   "mimetype": "text/x-python",
   "name": "python",
   "nbconvert_exporter": "python",
   "pygments_lexer": "ipython3",
   "version": "3.4.3"
  }
 },
 "nbformat": 4,
 "nbformat_minor": 2
}
